{
  "nbformat": 4,
  "nbformat_minor": 0,
  "metadata": {
    "colab": {
      "name": "get_xenocanto_data.ipynb",
      "provenance": [],
      "collapsed_sections": [
        "D7c6oqdCAufL",
        "--QeodZOBRHv",
        "z928jK9fBd0e",
        "3XEI4BWYCH4C",
        "34sOEUI9DBjB",
        "ALbQ878aCgYA"
      ]
    },
    "kernelspec": {
      "name": "python3",
      "display_name": "Python 3"
    }
  },
  "cells": [
    {
      "cell_type": "markdown",
      "metadata": {
        "id": "dbT_DnLCDeO5"
      },
      "source": [
        "(notebook réalisé sur colab lié à un google drive) \n",
        "\n",
        "Les fichiers prêts (output de ce notebook) à disposition :\n",
        "\n",
        "Lien de téléchargement du fichier full_xenocanto.csv : \n",
        "https://drive.google.com/file/d/1IqIknH0h5GigT3TWyE8SuFCUk6q-wbLW/view?usp=sharing\n",
        "\n",
        "Lien de téléchargement de rand_id.csv : \n",
        "https://drive.google.com/file/d/1-1CcgTUS1jp8qmVW2yLVELM9GF54jKtq/view?usp=sharing\n",
        "\n",
        "Lien de téléchargement des fichiers mp3 depuis google_drive : \n",
        "https://drive.google.com/drive/folders/1VMF_Y-ABxHfnBqIDR5rc5TDpgIFxQDJ_?usp=sharing"
      ]
    },
    {
      "cell_type": "code",
      "metadata": {
        "id": "HHU0F84JnkFL"
      },
      "source": [
        "import os\n",
        "import pandas as pd\n",
        "import json\n",
        "import urllib\n",
        "import numpy as np"
      ],
      "execution_count": 1,
      "outputs": []
    },
    {
      "cell_type": "markdown",
      "metadata": {
        "id": "D7c6oqdCAufL"
      },
      "source": [
        "# Creation de full_xenocanto.csv (tous les enregistrements, 23953)"
      ]
    },
    {
      "cell_type": "code",
      "metadata": {
        "id": "uEt13-5dntvC"
      },
      "source": [
        "# loads the list of xenocanto.com records to full_xeno.csv\n",
        "\n",
        "birds_path = 'https://raw.githubusercontent.com/microfaune/microfaune/master/oiseaux.csv'\n",
        "birds = pd.read_csv(birds_path, delimiter = ';')\n",
        "\n",
        "full_xeno = pd.DataFrame()\n",
        "\n",
        "for i in range(birds.shape[0]):\n",
        "    bird_query = birds.iloc[i][\"Nom latin\"].replace(\" \", \"+\").lower()\n",
        "    bird_name = birds.iloc[i][\"Nom latin\"].replace(\" \", \"_\").lower()\n",
        "    \n",
        "    url = f'https://www.xeno-canto.org/api/2/recordings?query={bird_query}'\n",
        "    r = urllib.request.urlopen(url)\n",
        "    \n",
        "    bird_data = json.loads(r.read().decode(r.info().get_param('charset') or 'utf-8'))\n",
        "    \n",
        "    full_xeno = full_xeno.append(pd.json_normalize(bird_data['recordings']))\n",
        "\n",
        "full_xeno.insert(loc = 1, column = 'species', value = full_xeno['gen'] + '_' + full_xeno['sp'])\n",
        "\n",
        "full_xeno.to_csv(r'/content/drive/My Drive/full_xenocanto.csv', index = False)"
      ],
      "execution_count": 3,
      "outputs": []
    },
    {
      "cell_type": "code",
      "metadata": {
        "id": "4vmTx_STywlv",
        "outputId": "14aea53a-aef1-479e-fd0b-25956bd2d266",
        "colab": {
          "base_uri": "https://localhost:8080/"
        }
      },
      "source": [
        "full_xeno.info()"
      ],
      "execution_count": 130,
      "outputs": [
        {
          "output_type": "stream",
          "text": [
            "<class 'pandas.core.frame.DataFrame'>\n",
            "Int64Index: 23953 entries, 0 to 499\n",
            "Data columns (total 30 columns):\n",
            " #   Column         Non-Null Count  Dtype \n",
            "---  ------         --------------  ----- \n",
            " 0   id             23953 non-null  object\n",
            " 1   species        23953 non-null  object\n",
            " 2   gen            23953 non-null  object\n",
            " 3   sp             23953 non-null  object\n",
            " 4   ssp            23953 non-null  object\n",
            " 5   en             23953 non-null  object\n",
            " 6   rec            23953 non-null  object\n",
            " 7   cnt            23953 non-null  object\n",
            " 8   loc            23953 non-null  object\n",
            " 9   lat            23766 non-null  object\n",
            " 10  lng            23765 non-null  object\n",
            " 11  alt            23953 non-null  object\n",
            " 12  type           23953 non-null  object\n",
            " 13  url            23953 non-null  object\n",
            " 14  file           23953 non-null  object\n",
            " 15  file-name      23953 non-null  object\n",
            " 16  lic            23953 non-null  object\n",
            " 17  q              23953 non-null  object\n",
            " 18  length         23953 non-null  object\n",
            " 19  time           23953 non-null  object\n",
            " 20  date           23953 non-null  object\n",
            " 21  uploaded       23953 non-null  object\n",
            " 22  also           23953 non-null  object\n",
            " 23  rmk            23953 non-null  object\n",
            " 24  bird-seen      23953 non-null  object\n",
            " 25  playback-used  23953 non-null  object\n",
            " 26  sono.small     23953 non-null  object\n",
            " 27  sono.med       23953 non-null  object\n",
            " 28  sono.large     23953 non-null  object\n",
            " 29  sono.full      23953 non-null  object\n",
            "dtypes: object(30)\n",
            "memory usage: 6.3+ MB\n"
          ],
          "name": "stdout"
        }
      ]
    },
    {
      "cell_type": "code",
      "metadata": {
        "id": "5ELfSYyXh99m",
        "outputId": "70b809f9-e16d-489e-d3ef-cff9a9ee436b",
        "colab": {
          "base_uri": "https://localhost:8080/"
        }
      },
      "source": [
        "full_xeno['id'].unique().size"
      ],
      "execution_count": 38,
      "outputs": [
        {
          "output_type": "execute_result",
          "data": {
            "text/plain": [
              "23953"
            ]
          },
          "metadata": {
            "tags": []
          },
          "execution_count": 38
        }
      ]
    },
    {
      "cell_type": "markdown",
      "metadata": {
        "id": "--QeodZOBRHv"
      },
      "source": [
        "# Chargement d'un full_xenocanto.csv déjà existant"
      ]
    },
    {
      "cell_type": "code",
      "metadata": {
        "id": "LXKCfqp-d028"
      },
      "source": [
        "# loading full_xeno from the already existing full_xeno.csv\n",
        "full_xeno = pd.read_csv('/content/drive/My Drive/full_xenocanto.csv') # le 26/10/2020 23948 enregistrements"
      ],
      "execution_count": 157,
      "outputs": []
    },
    {
      "cell_type": "code",
      "metadata": {
        "id": "Wn0tHWFteNle",
        "outputId": "ff92f014-ceab-40df-e807-594d7481fabd",
        "colab": {
          "base_uri": "https://localhost:8080/"
        }
      },
      "source": [
        "full_xeno[\"species\"].unique().size"
      ],
      "execution_count": 118,
      "outputs": [
        {
          "output_type": "execute_result",
          "data": {
            "text/plain": [
              "52"
            ]
          },
          "metadata": {
            "tags": []
          },
          "execution_count": 118
        }
      ]
    },
    {
      "cell_type": "markdown",
      "metadata": {
        "id": "z928jK9fBd0e"
      },
      "source": [
        "# Création dataframe avec la liste des espèces (52)"
      ]
    },
    {
      "cell_type": "code",
      "metadata": {
        "id": "KXTQRRyyU8TT"
      },
      "source": [
        "# getting species list \n",
        "species_list = full_xeno.groupby('species', as_index=False).count().sort_values(by  = 'id', ascending = True, ignore_index = True)"
      ],
      "execution_count": 69,
      "outputs": []
    },
    {
      "cell_type": "code",
      "metadata": {
        "id": "VRf7cn3y1Ztu",
        "outputId": "2833f5c9-3eb4-440d-f880-da972857bc00",
        "colab": {
          "base_uri": "https://localhost:8080/"
        }
      },
      "source": [
        "species_list[\"species\"].size"
      ],
      "execution_count": 158,
      "outputs": [
        {
          "output_type": "execute_result",
          "data": {
            "text/plain": [
              "52"
            ]
          },
          "metadata": {
            "tags": []
          },
          "execution_count": 158
        }
      ]
    },
    {
      "cell_type": "markdown",
      "metadata": {
        "id": "3XEI4BWYCH4C"
      },
      "source": [
        "# Création de rand_id.csv : sampling de 138 enregistrements par espèce\n",
        "(7176 enregistrements au total)"
      ]
    },
    {
      "cell_type": "code",
      "metadata": {
        "id": "l6nnvl2WxnDW"
      },
      "source": [
        "# sample examples from full_xeno\n",
        "rand_id = pd.DataFrame()\n",
        "\n",
        "for species in species_list['species'] : \n",
        "  rand_id = rand_id.append(full_xeno[full_xeno[\"species\"]  == species].sample(n = 138)) # 138 examples (l'espece avec le moins d'examples)"
      ],
      "execution_count": 147,
      "outputs": []
    },
    {
      "cell_type": "code",
      "metadata": {
        "id": "xupA8fajzK3D",
        "outputId": "4771c13c-a310-449f-9dc1-e540a4c41795",
        "colab": {
          "base_uri": "https://localhost:8080/"
        }
      },
      "source": [
        "rand_id.shape"
      ],
      "execution_count": 154,
      "outputs": [
        {
          "output_type": "execute_result",
          "data": {
            "text/plain": [
              "(7176, 30)"
            ]
          },
          "metadata": {
            "tags": []
          },
          "execution_count": 154
        }
      ]
    },
    {
      "cell_type": "code",
      "metadata": {
        "id": "MeNZ3FQAyI5k",
        "outputId": "0f5d5833-c73e-4242-b273-de565d74241f",
        "colab": {
          "base_uri": "https://localhost:8080/"
        }
      },
      "source": [
        "rand_id[\"species\"].unique().size"
      ],
      "execution_count": 149,
      "outputs": [
        {
          "output_type": "execute_result",
          "data": {
            "text/plain": [
              "52"
            ]
          },
          "metadata": {
            "tags": []
          },
          "execution_count": 149
        }
      ]
    },
    {
      "cell_type": "code",
      "metadata": {
        "id": "VLRJifiZ1oEV",
        "outputId": "52bfd9e3-a934-4813-8337-fc9c59ac2c2c",
        "colab": {
          "base_uri": "https://localhost:8080/",
          "height": 434
        }
      },
      "source": [
        "rand_id.head()"
      ],
      "execution_count": 152,
      "outputs": [
        {
          "output_type": "execute_result",
          "data": {
            "text/html": [
              "<div>\n",
              "<style scoped>\n",
              "    .dataframe tbody tr th:only-of-type {\n",
              "        vertical-align: middle;\n",
              "    }\n",
              "\n",
              "    .dataframe tbody tr th {\n",
              "        vertical-align: top;\n",
              "    }\n",
              "\n",
              "    .dataframe thead th {\n",
              "        text-align: right;\n",
              "    }\n",
              "</style>\n",
              "<table border=\"1\" class=\"dataframe\">\n",
              "  <thead>\n",
              "    <tr style=\"text-align: right;\">\n",
              "      <th></th>\n",
              "      <th>id</th>\n",
              "      <th>species</th>\n",
              "      <th>gen</th>\n",
              "      <th>sp</th>\n",
              "      <th>ssp</th>\n",
              "      <th>en</th>\n",
              "      <th>rec</th>\n",
              "      <th>cnt</th>\n",
              "      <th>loc</th>\n",
              "      <th>lat</th>\n",
              "      <th>lng</th>\n",
              "      <th>alt</th>\n",
              "      <th>type</th>\n",
              "      <th>url</th>\n",
              "      <th>file</th>\n",
              "      <th>file-name</th>\n",
              "      <th>lic</th>\n",
              "      <th>q</th>\n",
              "      <th>length</th>\n",
              "      <th>time</th>\n",
              "      <th>date</th>\n",
              "      <th>uploaded</th>\n",
              "      <th>also</th>\n",
              "      <th>rmk</th>\n",
              "      <th>bird-seen</th>\n",
              "      <th>playback-used</th>\n",
              "      <th>sono.small</th>\n",
              "      <th>sono.med</th>\n",
              "      <th>sono.large</th>\n",
              "      <th>sono.full</th>\n",
              "    </tr>\n",
              "  </thead>\n",
              "  <tbody>\n",
              "    <tr>\n",
              "      <th>0</th>\n",
              "      <td>561492</td>\n",
              "      <td>Falco_subbuteo</td>\n",
              "      <td>Falco</td>\n",
              "      <td>subbuteo</td>\n",
              "      <td></td>\n",
              "      <td>Eurasian Hobby</td>\n",
              "      <td>Albert Lastukhin</td>\n",
              "      <td>Russian Federation</td>\n",
              "      <td>Krasnoarmeysky District, Chuvashia</td>\n",
              "      <td>55.8196</td>\n",
              "      <td>46.9725</td>\n",
              "      <td>160</td>\n",
              "      <td>adult, alarm call, female, flight call, male</td>\n",
              "      <td>//www.xeno-canto.org/561492</td>\n",
              "      <td>//www.xeno-canto.org/561492/download</td>\n",
              "      <td>XC561492-Falco subbuteo 0506_090515, B1.MP3</td>\n",
              "      <td>//creativecommons.org/licenses/by-nc-sa/4.0/</td>\n",
              "      <td>B</td>\n",
              "      <td>0:49</td>\n",
              "      <td>09:00</td>\n",
              "      <td>2020-05-06</td>\n",
              "      <td>2020-05-24</td>\n",
              "      <td>[Corvus corax]</td>\n",
              "      <td></td>\n",
              "      <td>yes</td>\n",
              "      <td>no</td>\n",
              "      <td>//www.xeno-canto.org/sounds/uploaded/LELYWQKUZ...</td>\n",
              "      <td>//www.xeno-canto.org/sounds/uploaded/LELYWQKUZ...</td>\n",
              "      <td>//www.xeno-canto.org/sounds/uploaded/LELYWQKUZ...</td>\n",
              "      <td>//www.xeno-canto.org/sounds/uploaded/LELYWQKUZ...</td>\n",
              "    </tr>\n",
              "    <tr>\n",
              "      <th>1</th>\n",
              "      <td>495035</td>\n",
              "      <td>Falco_subbuteo</td>\n",
              "      <td>Falco</td>\n",
              "      <td>subbuteo</td>\n",
              "      <td></td>\n",
              "      <td>Eurasian Hobby</td>\n",
              "      <td>Albert Lastukhin</td>\n",
              "      <td>Russian Federation</td>\n",
              "      <td>Gornomariyskiy Rayon, Mari El Republic</td>\n",
              "      <td>56.1832</td>\n",
              "      <td>46.1057</td>\n",
              "      <td>60</td>\n",
              "      <td>call</td>\n",
              "      <td>//www.xeno-canto.org/495035</td>\n",
              "      <td>//www.xeno-canto.org/495035/download</td>\n",
              "      <td>XC495035-Falco subbuteo 11-12.05.2018, Хмелёвк...</td>\n",
              "      <td>//creativecommons.org/licenses/by-nc-sa/4.0/</td>\n",
              "      <td>B</td>\n",
              "      <td>0:21</td>\n",
              "      <td>05:30</td>\n",
              "      <td>2018-05-12</td>\n",
              "      <td>2019-08-31</td>\n",
              "      <td>[]</td>\n",
              "      <td></td>\n",
              "      <td>yes</td>\n",
              "      <td>no</td>\n",
              "      <td>//www.xeno-canto.org/sounds/uploaded/LELYWQKUZ...</td>\n",
              "      <td>//www.xeno-canto.org/sounds/uploaded/LELYWQKUZ...</td>\n",
              "      <td>//www.xeno-canto.org/sounds/uploaded/LELYWQKUZ...</td>\n",
              "      <td>//www.xeno-canto.org/sounds/uploaded/LELYWQKUZ...</td>\n",
              "    </tr>\n",
              "    <tr>\n",
              "      <th>2</th>\n",
              "      <td>589140</td>\n",
              "      <td>Falco_subbuteo</td>\n",
              "      <td>Falco</td>\n",
              "      <td>subbuteo</td>\n",
              "      <td></td>\n",
              "      <td>Eurasian Hobby</td>\n",
              "      <td>Byoungsoon Jang</td>\n",
              "      <td>South Korea</td>\n",
              "      <td>Gunsan, Jeollabuk-do</td>\n",
              "      <td>35.9259</td>\n",
              "      <td>126.7455</td>\n",
              "      <td>20</td>\n",
              "      <td>call</td>\n",
              "      <td>//www.xeno-canto.org/589140</td>\n",
              "      <td>//www.xeno-canto.org/589140/download</td>\n",
              "      <td>XC589140-200917_0426.15.33(eurasian hobby).mp3</td>\n",
              "      <td>//creativecommons.org/licenses/by-nc-sa/4.0/</td>\n",
              "      <td>C</td>\n",
              "      <td>0:02</td>\n",
              "      <td>16:30</td>\n",
              "      <td>2020-09-17</td>\n",
              "      <td>2020-09-17</td>\n",
              "      <td>[]</td>\n",
              "      <td></td>\n",
              "      <td>yes</td>\n",
              "      <td>no</td>\n",
              "      <td>//www.xeno-canto.org/sounds/uploaded/RVLNPQSYV...</td>\n",
              "      <td>//www.xeno-canto.org/sounds/uploaded/RVLNPQSYV...</td>\n",
              "      <td>//www.xeno-canto.org/sounds/uploaded/RVLNPQSYV...</td>\n",
              "      <td>//www.xeno-canto.org/sounds/uploaded/RVLNPQSYV...</td>\n",
              "    </tr>\n",
              "    <tr>\n",
              "      <th>3</th>\n",
              "      <td>262833</td>\n",
              "      <td>Falco_subbuteo</td>\n",
              "      <td>Falco</td>\n",
              "      <td>subbuteo</td>\n",
              "      <td></td>\n",
              "      <td>Eurasian Hobby</td>\n",
              "      <td>Albert Lastukhin</td>\n",
              "      <td>Russian Federation</td>\n",
              "      <td>Kozlovskiy rayon, Chuvashia</td>\n",
              "      <td>55.8697</td>\n",
              "      <td>48.0544</td>\n",
              "      <td>50</td>\n",
              "      <td>flight call</td>\n",
              "      <td>//www.xeno-canto.org/262833</td>\n",
              "      <td>//www.xeno-canto.org/262833/download</td>\n",
              "      <td>XC262833-Falco 150719_001,AA.MP3</td>\n",
              "      <td>//creativecommons.org/licenses/by-nc-sa/4.0/</td>\n",
              "      <td>B</td>\n",
              "      <td>0:09</td>\n",
              "      <td>05:00</td>\n",
              "      <td>2015-07-19</td>\n",
              "      <td>2015-07-20</td>\n",
              "      <td>[]</td>\n",
              "      <td></td>\n",
              "      <td>unknown</td>\n",
              "      <td>no</td>\n",
              "      <td>//www.xeno-canto.org/sounds/uploaded/LELYWQKUZ...</td>\n",
              "      <td>//www.xeno-canto.org/sounds/uploaded/LELYWQKUZ...</td>\n",
              "      <td>//www.xeno-canto.org/sounds/uploaded/LELYWQKUZ...</td>\n",
              "      <td>//www.xeno-canto.org/sounds/uploaded/LELYWQKUZ...</td>\n",
              "    </tr>\n",
              "    <tr>\n",
              "      <th>4</th>\n",
              "      <td>485666</td>\n",
              "      <td>Falco_subbuteo</td>\n",
              "      <td>Falco</td>\n",
              "      <td>subbuteo</td>\n",
              "      <td></td>\n",
              "      <td>Eurasian Hobby</td>\n",
              "      <td>Stanislas Wroza</td>\n",
              "      <td>Russian Federation</td>\n",
              "      <td>Kabansky District, Buryatia</td>\n",
              "      <td>52.0916</td>\n",
              "      <td>106.9924</td>\n",
              "      <td>480</td>\n",
              "      <td>flight call, interaction calls</td>\n",
              "      <td>//www.xeno-canto.org/485666</td>\n",
              "      <td>//www.xeno-canto.org/485666/download</td>\n",
              "      <td>XC485666-2019-06-23 Selenga to Ulan Ude Faucon...</td>\n",
              "      <td>//creativecommons.org/licenses/by-nc-sa/4.0/</td>\n",
              "      <td>D</td>\n",
              "      <td>0:05</td>\n",
              "      <td>13:00</td>\n",
              "      <td>2019-06-23</td>\n",
              "      <td>2019-07-09</td>\n",
              "      <td>[]</td>\n",
              "      <td></td>\n",
              "      <td>yes</td>\n",
              "      <td>no</td>\n",
              "      <td>//www.xeno-canto.org/sounds/uploaded/SDPCHKOHR...</td>\n",
              "      <td>//www.xeno-canto.org/sounds/uploaded/SDPCHKOHR...</td>\n",
              "      <td>//www.xeno-canto.org/sounds/uploaded/SDPCHKOHR...</td>\n",
              "      <td>//www.xeno-canto.org/sounds/uploaded/SDPCHKOHR...</td>\n",
              "    </tr>\n",
              "  </tbody>\n",
              "</table>\n",
              "</div>"
            ],
            "text/plain": [
              "       id  ...                                          sono.full\n",
              "0  561492  ...  //www.xeno-canto.org/sounds/uploaded/LELYWQKUZ...\n",
              "1  495035  ...  //www.xeno-canto.org/sounds/uploaded/LELYWQKUZ...\n",
              "2  589140  ...  //www.xeno-canto.org/sounds/uploaded/RVLNPQSYV...\n",
              "3  262833  ...  //www.xeno-canto.org/sounds/uploaded/LELYWQKUZ...\n",
              "4  485666  ...  //www.xeno-canto.org/sounds/uploaded/SDPCHKOHR...\n",
              "\n",
              "[5 rows x 30 columns]"
            ]
          },
          "metadata": {
            "tags": []
          },
          "execution_count": 152
        }
      ]
    },
    {
      "cell_type": "code",
      "metadata": {
        "id": "VxRd2eNClOIQ"
      },
      "source": [
        "rand_id.reset_index(drop = True, inplace = True)"
      ],
      "execution_count": 151,
      "outputs": []
    },
    {
      "cell_type": "code",
      "metadata": {
        "id": "T1rXfvZMn6J_"
      },
      "source": [
        "rand_id.to_csv(r'/content/drive/My Drive/rand_id.csv')"
      ],
      "execution_count": 160,
      "outputs": []
    },
    {
      "cell_type": "markdown",
      "metadata": {
        "id": "34sOEUI9DBjB"
      },
      "source": [
        "# Chargement d'un rand_id.csv pré-existant"
      ]
    },
    {
      "cell_type": "code",
      "metadata": {
        "id": "1y3ZjVFmDL17"
      },
      "source": [
        "rand_id = pd.read_csv('/content/drive/My Drive/rand_id.csv')"
      ],
      "execution_count": null,
      "outputs": []
    },
    {
      "cell_type": "markdown",
      "metadata": {
        "id": "ALbQ878aCgYA"
      },
      "source": [
        "# Download des enregistrements de rand_id.csv"
      ]
    },
    {
      "cell_type": "code",
      "metadata": {
        "id": "ENq0O9ctB1JQ"
      },
      "source": [
        "# Downloading examples\n",
        "for i in range (rand_id.shape[0]) :\n",
        "  bird = rand_id.iloc[i][\"species\"]\n",
        "  filepath = rand_id.iloc[i][\"file\"]\n",
        "  filename = rand_id.iloc[i][\"file-name\"]\n",
        "\n",
        " # create folder if it doesn't exist\n",
        "  dirPath = f'/content/drive/My Drive/xenocanto_data/{bird}'\n",
        "    \n",
        "  if not os.path.exists(dirPath):\n",
        "    os.makedirs(dirPath)\n",
        "    \n",
        "    # retrieve recordings\n",
        "  rec_path = f\"https:{filepath}\"\n",
        "       \n",
        "  urllib.request.urlretrieve(rec_path, f\"/content/drive/My Drive/xenocanto_data/{bird}/{filename}\")"
      ],
      "execution_count": 155,
      "outputs": []
    }
  ]
}