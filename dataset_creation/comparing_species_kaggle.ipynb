{
 "cells": [
  {
   "cell_type": "code",
   "execution_count": 6,
   "metadata": {
    "collapsed": true
   },
   "outputs": [],
   "source": [
    "import os\n",
    "import pandas as pd\n",
    "import numpy as np"
   ]
  },
  {
   "cell_type": "code",
   "execution_count": 7,
   "metadata": {
    "collapsed": true
   },
   "outputs": [],
   "source": [
    "# our dataset = oiseaux; dataset kaggle = birds \n",
    "\n",
    "oiseaux = pd.read_csv('oiseaux_old.csv', delimiter = ';')\n",
    "birds = pd.read_csv('train.csv')\n",
    "latin_names = pd.read_csv('latin_names.csv', delimiter = ';') # file from xenocanto with all species"
   ]
  },
  {
   "cell_type": "markdown",
   "metadata": {},
   "source": [
    "## Latin name file from xenocanto - in order to be able to merge oiseaux and train.csv (birds df)   "
   ]
  },
  {
   "cell_type": "code",
   "execution_count": 17,
   "metadata": {},
   "outputs": [
    {
     "name": "stdout",
     "output_type": "stream",
     "text": [
      "           Common name         Scientific name Status  No.  No. Back\n",
      "0       Common Ostrich        Struthio camelus    NaN    5         0\n",
      "1       Somali Ostrich  Struthio molybdophanes    NaN    1         0\n",
      "2         Greater Rhea          Rhea americana    NaN   22         1\n",
      "3          Lesser Rhea            Rhea pennata    NaN    4         0\n",
      "4  Southern Brown Kiwi       Apteryx australis    NaN    3         0 \n",
      "\n",
      "<class 'pandas.core.frame.DataFrame'>\n",
      "RangeIndex: 10966 entries, 0 to 10965\n",
      "Data columns (total 5 columns):\n",
      "Common name        10966 non-null object\n",
      "Scientific name    10966 non-null object\n",
      "Status             158 non-null object\n",
      "No.                10966 non-null int64\n",
      "No. Back           10966 non-null int64\n",
      "dtypes: int64(2), object(3)\n",
      "memory usage: 428.4+ KB\n",
      "None\n"
     ]
    }
   ],
   "source": [
    "print(latin_names.head(), '\\n')\n",
    "print(latin_names.info())"
   ]
  },
  {
   "cell_type": "code",
   "execution_count": 19,
   "metadata": {},
   "outputs": [
    {
     "data": {
      "text/plain": [
       "array([nan, 'Extinct'], dtype=object)"
      ]
     },
     "execution_count": 19,
     "metadata": {},
     "output_type": "execute_result"
    }
   ],
   "source": [
    "# The status column is only about extinct species : \n",
    "latin_names[latin_names['Status'].notnull()]['Status'].unique()"
   ]
  },
  {
   "cell_type": "markdown",
   "metadata": {},
   "source": [
    "## Check cité U species (df oiseaux)"
   ]
  },
  {
   "cell_type": "code",
   "execution_count": 16,
   "metadata": {},
   "outputs": [
    {
     "name": "stdout",
     "output_type": "stream",
     "text": [
      "       Nom vernaculaire            Nom latin       Famille  \\\n",
      "0     Accenteur mouchet   Prunella modularis   Prunellidae   \n",
      "1   Bergeronnette grise       Motacilla alba  Motacillidae   \n",
      "2        Canard colvert   Anas platyrhynchos      Anatidae   \n",
      "3  Chardonneret élégant  Carduelis carduelis  Fringillidae   \n",
      "4       Corneille noire        Corvus corone      Corvidae   \n",
      "\n",
      "  Statut de reproducteur  Unnamed: 4  \n",
      "0        nicheur certain         NaN  \n",
      "1        nicheur certain         NaN  \n",
      "2              hivernant         NaN  \n",
      "3        nicheur certain         NaN  \n",
      "4        nicheur certain         NaN   \n",
      "\n",
      "<class 'pandas.core.frame.DataFrame'>\n",
      "RangeIndex: 52 entries, 0 to 51\n",
      "Data columns (total 5 columns):\n",
      "Nom vernaculaire          52 non-null object\n",
      "Nom latin                 52 non-null object\n",
      "Famille                   52 non-null object\n",
      "Statut de reproducteur    43 non-null object\n",
      "Unnamed: 4                0 non-null float64\n",
      "dtypes: float64(1), object(4)\n",
      "memory usage: 2.1+ KB\n",
      "None\n"
     ]
    }
   ],
   "source": [
    "print(oiseaux.head(),'\\n')\n",
    "print(oiseaux.info())"
   ]
  },
  {
   "cell_type": "code",
   "execution_count": 13,
   "metadata": {
    "collapsed": true
   },
   "outputs": [],
   "source": [
    "oiseaux.drop(labels=None, axis=0, index=None, columns='Unnamed: 4', level=None, inplace=True, errors='raise')"
   ]
  },
  {
   "cell_type": "code",
   "execution_count": 20,
   "metadata": {},
   "outputs": [
    {
     "name": "stdout",
     "output_type": "stream",
     "text": [
      "       Nom vernaculaire            Nom latin       Famille  \\\n",
      "0     Accenteur mouchet   Prunella modularis   Prunellidae   \n",
      "1   Bergeronnette grise       Motacilla alba  Motacillidae   \n",
      "2        Canard colvert   Anas platyrhynchos      Anatidae   \n",
      "3  Chardonneret élégant  Carduelis carduelis  Fringillidae   \n",
      "4       Corneille noire        Corvus corone      Corvidae   \n",
      "\n",
      "  Statut de reproducteur  Unnamed: 4  \n",
      "0        nicheur certain         NaN  \n",
      "1        nicheur certain         NaN  \n",
      "2              hivernant         NaN  \n",
      "3        nicheur certain         NaN  \n",
      "4        nicheur certain         NaN   \n",
      "\n",
      "<class 'pandas.core.frame.DataFrame'>\n",
      "RangeIndex: 52 entries, 0 to 51\n",
      "Data columns (total 5 columns):\n",
      "Nom vernaculaire          52 non-null object\n",
      "Nom latin                 52 non-null object\n",
      "Famille                   52 non-null object\n",
      "Statut de reproducteur    43 non-null object\n",
      "Unnamed: 4                0 non-null float64\n",
      "dtypes: float64(1), object(4)\n",
      "memory usage: 2.1+ KB\n",
      "None\n"
     ]
    }
   ],
   "source": [
    "print(oiseaux.head(), '\\n')\n",
    "print(oiseaux.info())"
   ]
  },
  {
   "cell_type": "markdown",
   "metadata": {},
   "source": [
    "## Check kaggle train.csv species (df birds)"
   ]
  },
  {
   "cell_type": "code",
   "execution_count": 23,
   "metadata": {},
   "outputs": [
    {
     "name": "stdout",
     "output_type": "stream",
     "text": [
      "   rating playback_used ebird_code    channels        date          pitch  \\\n",
      "0     3.5            no     aldfly    1 (mono)  2013-05-25  Not specified   \n",
      "1     4.0            no     aldfly  2 (stereo)  2013-05-27           both   \n",
      "2     4.0            no     aldfly  2 (stereo)  2013-05-27           both   \n",
      "3     3.5            no     aldfly  2 (stereo)  2013-05-27           both   \n",
      "4     4.0            no     aldfly  2 (stereo)  2013-05-27           both   \n",
      "\n",
      "   duration      filename          speed           species  \\\n",
      "0        25  XC134874.mp3  Not specified  Alder Flycatcher   \n",
      "1        36  XC135454.mp3           both  Alder Flycatcher   \n",
      "2        39  XC135455.mp3           both  Alder Flycatcher   \n",
      "3        33  XC135456.mp3           both  Alder Flycatcher   \n",
      "4        36  XC135457.mp3          level  Alder Flycatcher   \n",
      "\n",
      "                         ...                           xc_id  \\\n",
      "0                        ...                          134874   \n",
      "1                        ...                          135454   \n",
      "2                        ...                          135455   \n",
      "3                        ...                          135456   \n",
      "4                        ...                          135457   \n",
      "\n",
      "                                 url        country            author  \\\n",
      "0  https://www.xeno-canto.org/134874  United States  Jonathon Jongsma   \n",
      "1  https://www.xeno-canto.org/135454  United States       Mike Nelson   \n",
      "2  https://www.xeno-canto.org/135455  United States       Mike Nelson   \n",
      "3  https://www.xeno-canto.org/135456  United States       Mike Nelson   \n",
      "4  https://www.xeno-canto.org/135457  United States       Mike Nelson   \n",
      "\n",
      "                        primary_label longitude         length   time  \\\n",
      "0  Empidonax alnorum_Alder Flycatcher   -92.962  Not specified   8:00   \n",
      "1  Empidonax alnorum_Alder Flycatcher  -82.1106         0-3(s)  08:30   \n",
      "2  Empidonax alnorum_Alder Flycatcher  -82.1106         0-3(s)  08:30   \n",
      "3  Empidonax alnorum_Alder Flycatcher  -82.1106         0-3(s)  08:30   \n",
      "4  Empidonax alnorum_Alder Flycatcher  -82.1106         0-3(s)  08:30   \n",
      "\n",
      "          recordist                                            license  \n",
      "0  Jonathon Jongsma        Creative Commons Attribution-ShareAlike 3.0  \n",
      "1       Mike Nelson  Creative Commons Attribution-NonCommercial-Sha...  \n",
      "2       Mike Nelson  Creative Commons Attribution-NonCommercial-Sha...  \n",
      "3       Mike Nelson  Creative Commons Attribution-NonCommercial-Sha...  \n",
      "4       Mike Nelson  Creative Commons Attribution-NonCommercial-Sha...  \n",
      "\n",
      "[5 rows x 35 columns] \n",
      "\n",
      "<class 'pandas.core.frame.DataFrame'>\n",
      "RangeIndex: 21375 entries, 0 to 21374\n",
      "Data columns (total 35 columns):\n",
      "rating              21375 non-null float64\n",
      "playback_used       19575 non-null object\n",
      "ebird_code          21375 non-null object\n",
      "channels            21375 non-null object\n",
      "date                21375 non-null object\n",
      "pitch               21375 non-null object\n",
      "duration            21375 non-null int64\n",
      "filename            21375 non-null object\n",
      "speed               21375 non-null object\n",
      "species             21375 non-null object\n",
      "number_of_notes     21375 non-null object\n",
      "title               21375 non-null object\n",
      "secondary_labels    21375 non-null object\n",
      "bird_seen           19575 non-null object\n",
      "sci_name            21375 non-null object\n",
      "location            21375 non-null object\n",
      "latitude            21375 non-null object\n",
      "sampling_rate       21375 non-null object\n",
      "type                21375 non-null object\n",
      "elevation           21375 non-null object\n",
      "description         15176 non-null object\n",
      "bitrate_of_mp3      21367 non-null object\n",
      "file_type           21375 non-null object\n",
      "volume              21375 non-null object\n",
      "background          8300 non-null object\n",
      "xc_id               21375 non-null int64\n",
      "url                 21375 non-null object\n",
      "country             21375 non-null object\n",
      "author              21375 non-null object\n",
      "primary_label       21375 non-null object\n",
      "longitude           21375 non-null object\n",
      "length              21375 non-null object\n",
      "time                21375 non-null object\n",
      "recordist           21375 non-null object\n",
      "license             21375 non-null object\n",
      "dtypes: float64(1), int64(2), object(32)\n",
      "memory usage: 5.7+ MB\n",
      "None\n"
     ]
    }
   ],
   "source": [
    "print(birds.head(), '\\n')\n",
    "print(birds.info())"
   ]
  },
  {
   "cell_type": "markdown",
   "metadata": {},
   "source": [
    "## Latin names "
   ]
  },
  {
   "cell_type": "code",
   "execution_count": 24,
   "metadata": {},
   "outputs": [
    {
     "data": {
      "text/html": [
       "<div>\n",
       "<style>\n",
       "    .dataframe thead tr:only-child th {\n",
       "        text-align: right;\n",
       "    }\n",
       "\n",
       "    .dataframe thead th {\n",
       "        text-align: left;\n",
       "    }\n",
       "\n",
       "    .dataframe tbody tr th {\n",
       "        vertical-align: top;\n",
       "    }\n",
       "</style>\n",
       "<table border=\"1\" class=\"dataframe\">\n",
       "  <thead>\n",
       "    <tr style=\"text-align: right;\">\n",
       "      <th></th>\n",
       "      <th>Common name</th>\n",
       "      <th>Scientific name</th>\n",
       "      <th>Status</th>\n",
       "      <th>No.</th>\n",
       "      <th>No. Back</th>\n",
       "    </tr>\n",
       "  </thead>\n",
       "  <tbody>\n",
       "    <tr>\n",
       "      <th>0</th>\n",
       "      <td>Common Ostrich</td>\n",
       "      <td>Struthio camelus</td>\n",
       "      <td>NaN</td>\n",
       "      <td>5</td>\n",
       "      <td>0</td>\n",
       "    </tr>\n",
       "    <tr>\n",
       "      <th>1</th>\n",
       "      <td>Somali Ostrich</td>\n",
       "      <td>Struthio molybdophanes</td>\n",
       "      <td>NaN</td>\n",
       "      <td>1</td>\n",
       "      <td>0</td>\n",
       "    </tr>\n",
       "    <tr>\n",
       "      <th>2</th>\n",
       "      <td>Greater Rhea</td>\n",
       "      <td>Rhea americana</td>\n",
       "      <td>NaN</td>\n",
       "      <td>22</td>\n",
       "      <td>1</td>\n",
       "    </tr>\n",
       "    <tr>\n",
       "      <th>3</th>\n",
       "      <td>Lesser Rhea</td>\n",
       "      <td>Rhea pennata</td>\n",
       "      <td>NaN</td>\n",
       "      <td>4</td>\n",
       "      <td>0</td>\n",
       "    </tr>\n",
       "    <tr>\n",
       "      <th>4</th>\n",
       "      <td>Southern Brown Kiwi</td>\n",
       "      <td>Apteryx australis</td>\n",
       "      <td>NaN</td>\n",
       "      <td>3</td>\n",
       "      <td>0</td>\n",
       "    </tr>\n",
       "  </tbody>\n",
       "</table>\n",
       "</div>"
      ],
      "text/plain": [
       "           Common name         Scientific name Status  No.  No. Back\n",
       "0       Common Ostrich        Struthio camelus    NaN    5         0\n",
       "1       Somali Ostrich  Struthio molybdophanes    NaN    1         0\n",
       "2         Greater Rhea          Rhea americana    NaN   22         1\n",
       "3          Lesser Rhea            Rhea pennata    NaN    4         0\n",
       "4  Southern Brown Kiwi       Apteryx australis    NaN    3         0"
      ]
     },
     "execution_count": 24,
     "metadata": {},
     "output_type": "execute_result"
    }
   ],
   "source": [
    "latin_names.head()"
   ]
  },
  {
   "cell_type": "markdown",
   "metadata": {},
   "source": [
    "## Merging dataframes oiseaux & birds on Scientific names "
   ]
  },
  {
   "cell_type": "code",
   "execution_count": 25,
   "metadata": {
    "collapsed": true
   },
   "outputs": [],
   "source": [
    "# Merge is possible only on the same named columns\n",
    "latin_names.rename(columns = {'Common name' : 'species'}, inplace=True)"
   ]
  },
  {
   "cell_type": "code",
   "execution_count": 26,
   "metadata": {
    "collapsed": true
   },
   "outputs": [],
   "source": [
    "# Merging birds and latin names on the American name ('species')\n",
    "birds  = pd.merge(birds, latin_names, how='left', on='species')"
   ]
  },
  {
   "cell_type": "code",
   "execution_count": 27,
   "metadata": {},
   "outputs": [
    {
     "name": "stdout",
     "output_type": "stream",
     "text": [
      "   rating playback_used ebird_code    channels        date          pitch  \\\n",
      "0     3.5            no     aldfly    1 (mono)  2013-05-25  Not specified   \n",
      "1     4.0            no     aldfly  2 (stereo)  2013-05-27           both   \n",
      "2     4.0            no     aldfly  2 (stereo)  2013-05-27           both   \n",
      "3     3.5            no     aldfly  2 (stereo)  2013-05-27           both   \n",
      "4     4.0            no     aldfly  2 (stereo)  2013-05-27           both   \n",
      "\n",
      "   duration      filename          speed           species   ...     \\\n",
      "0        25  XC134874.mp3  Not specified  Alder Flycatcher   ...      \n",
      "1        36  XC135454.mp3           both  Alder Flycatcher   ...      \n",
      "2        39  XC135455.mp3           both  Alder Flycatcher   ...      \n",
      "3        33  XC135456.mp3           both  Alder Flycatcher   ...      \n",
      "4        36  XC135457.mp3          level  Alder Flycatcher   ...      \n",
      "\n",
      "                        primary_label longitude         length   time  \\\n",
      "0  Empidonax alnorum_Alder Flycatcher   -92.962  Not specified   8:00   \n",
      "1  Empidonax alnorum_Alder Flycatcher  -82.1106         0-3(s)  08:30   \n",
      "2  Empidonax alnorum_Alder Flycatcher  -82.1106         0-3(s)  08:30   \n",
      "3  Empidonax alnorum_Alder Flycatcher  -82.1106         0-3(s)  08:30   \n",
      "4  Empidonax alnorum_Alder Flycatcher  -82.1106         0-3(s)  08:30   \n",
      "\n",
      "          recordist                                            license  \\\n",
      "0  Jonathon Jongsma        Creative Commons Attribution-ShareAlike 3.0   \n",
      "1       Mike Nelson  Creative Commons Attribution-NonCommercial-Sha...   \n",
      "2       Mike Nelson  Creative Commons Attribution-NonCommercial-Sha...   \n",
      "3       Mike Nelson  Creative Commons Attribution-NonCommercial-Sha...   \n",
      "4       Mike Nelson  Creative Commons Attribution-NonCommercial-Sha...   \n",
      "\n",
      "     Scientific name Status  No. No. Back  \n",
      "0  Empidonax alnorum    NaN  257      176  \n",
      "1  Empidonax alnorum    NaN  257      176  \n",
      "2  Empidonax alnorum    NaN  257      176  \n",
      "3  Empidonax alnorum    NaN  257      176  \n",
      "4  Empidonax alnorum    NaN  257      176  \n",
      "\n",
      "[5 rows x 39 columns]\n"
     ]
    }
   ],
   "source": [
    "print(birds.head())"
   ]
  },
  {
   "cell_type": "code",
   "execution_count": 28,
   "metadata": {
    "collapsed": true
   },
   "outputs": [],
   "source": [
    "# Merge is possible only on the same named columns \n",
    "oiseaux.rename(columns = {'Nom latin' : 'Scientific name'}, inplace = True)"
   ]
  },
  {
   "cell_type": "code",
   "execution_count": 32,
   "metadata": {
    "collapsed": true
   },
   "outputs": [],
   "source": [
    "# Merging oiseaux and birds on the latin names ('Scientific name')\n",
    "common_species = pd.merge(oiseaux, birds, how='left', on='Scientific name')"
   ]
  },
  {
   "cell_type": "code",
   "execution_count": 33,
   "metadata": {},
   "outputs": [
    {
     "name": "stdout",
     "output_type": "stream",
     "text": [
      "      Nom vernaculaire     Scientific name       Famille  \\\n",
      "0    Accenteur mouchet  Prunella modularis   Prunellidae   \n",
      "1  Bergeronnette grise      Motacilla alba  Motacillidae   \n",
      "2       Canard colvert  Anas platyrhynchos      Anatidae   \n",
      "3       Canard colvert  Anas platyrhynchos      Anatidae   \n",
      "4       Canard colvert  Anas platyrhynchos      Anatidae   \n",
      "\n",
      "  Statut de reproducteur  Unnamed: 4  rating playback_used ebird_code  \\\n",
      "0        nicheur certain         NaN     NaN           NaN        NaN   \n",
      "1        nicheur certain         NaN     NaN           NaN        NaN   \n",
      "2              hivernant         NaN     4.5            no    mallar3   \n",
      "3              hivernant         NaN     5.0            no    mallar3   \n",
      "4              hivernant         NaN     4.5            no    mallar3   \n",
      "\n",
      "     channels        date   ...           author               primary_label  \\\n",
      "0         NaN         NaN   ...              NaN                         NaN   \n",
      "1         NaN         NaN   ...              NaN                         NaN   \n",
      "2  2 (stereo)  2012-06-19   ...     Rudo Jureček  Anas platyrhynchos_Mallard   \n",
      "3  2 (stereo)  2012-06-19   ...     Rudo Jureček  Anas platyrhynchos_Mallard   \n",
      "4  2 (stereo)  2012-06-05   ...     Patrik Åberg  Anas platyrhynchos_Mallard   \n",
      "\n",
      "  longitude         length   time     recordist  \\\n",
      "0       NaN            NaN    NaN           NaN   \n",
      "1       NaN            NaN    NaN           NaN   \n",
      "2    16.976         >10(s)   6:57  Rudo Jureček   \n",
      "3    16.976         >10(s)   7:02  Rudo Jureček   \n",
      "4   14.2763  Not specified  03:58  Patrik Åberg   \n",
      "\n",
      "                                             license Status    No. No. Back  \n",
      "0                                                NaN    NaN    NaN      NaN  \n",
      "1                                                NaN    NaN    NaN      NaN  \n",
      "2  Creative Commons Attribution-NonCommercial-Sha...    NaN  591.0   1229.0  \n",
      "3  Creative Commons Attribution-NonCommercial-Sha...    NaN  591.0   1229.0  \n",
      "4  Creative Commons Attribution-NonCommercial-Sha...    NaN  591.0   1229.0  \n",
      "\n",
      "[5 rows x 43 columns]\n",
      "<class 'pandas.core.frame.DataFrame'>\n",
      "Int64Index: 685 entries, 0 to 684\n",
      "Data columns (total 43 columns):\n",
      "Nom vernaculaire          685 non-null object\n",
      "Scientific name           685 non-null object\n",
      "Famille                   685 non-null object\n",
      "Statut de reproducteur    478 non-null object\n",
      "Unnamed: 4                0 non-null float64\n",
      "rating                    640 non-null float64\n",
      "playback_used             593 non-null object\n",
      "ebird_code                640 non-null object\n",
      "channels                  640 non-null object\n",
      "date                      640 non-null object\n",
      "pitch                     640 non-null object\n",
      "duration                  640 non-null float64\n",
      "filename                  640 non-null object\n",
      "speed                     640 non-null object\n",
      "species                   640 non-null object\n",
      "number_of_notes           640 non-null object\n",
      "title                     640 non-null object\n",
      "secondary_labels          640 non-null object\n",
      "bird_seen                 593 non-null object\n",
      "sci_name                  640 non-null object\n",
      "location                  640 non-null object\n",
      "latitude                  640 non-null object\n",
      "sampling_rate             640 non-null object\n",
      "type                      640 non-null object\n",
      "elevation                 640 non-null object\n",
      "description               348 non-null object\n",
      "bitrate_of_mp3            639 non-null object\n",
      "file_type                 640 non-null object\n",
      "volume                    640 non-null object\n",
      "background                118 non-null object\n",
      "xc_id                     640 non-null float64\n",
      "url                       640 non-null object\n",
      "country                   640 non-null object\n",
      "author                    640 non-null object\n",
      "primary_label             640 non-null object\n",
      "longitude                 640 non-null object\n",
      "length                    640 non-null object\n",
      "time                      640 non-null object\n",
      "recordist                 640 non-null object\n",
      "license                   640 non-null object\n",
      "Status                    0 non-null object\n",
      "No.                       640 non-null float64\n",
      "No. Back                  640 non-null float64\n",
      "dtypes: float64(6), object(37)\n",
      "memory usage: 235.5+ KB\n",
      "None\n",
      " list of species : ['Prunella modularis' 'Motacilla alba' 'Anas platyrhynchos'\n",
      " 'Carduelis carduelis' 'Corvus corone' 'Accipiter nisus' 'Sturnus vulgaris'\n",
      " 'Falco tinnunculus' 'Falco subbuteo' 'Sylvia atricapilla'\n",
      " 'Garrulus glandarius' 'Muscicapa striata' 'Ficedula hypoleuca'\n",
      " 'Larus argentatus' 'Certhia brachydactyla' 'Turdus viscivorus'\n",
      " 'Turdus pilaris' 'Turdus iliacus' 'Turdus philomelos' 'Ardea cinerea'\n",
      " 'Hirundo rustica' 'Hippolais polyglotta' 'Apus apus' 'Turdus merula'\n",
      " 'Aegithalos caudatus' 'Cyanistes caeruleus' 'Parus major'\n",
      " 'Lophophanes cristatus' 'Periparus ater' 'Passer domesticus'\n",
      " 'Passer montanus' 'Chroicocephalus ridibundus' 'Psittacula krameri'\n",
      " 'Dendrocopos major' 'Dendrocopos minor' 'Picus viridis' 'Pica pica'\n",
      " 'Columba livia' 'Columba oenas' 'Columba palumbus' 'Fringilla coelebs'\n",
      " 'Phylloscopus trochilus' 'Phylloscopus collybita' 'Regulus ignicapilla'\n",
      " 'Regulus regulus' 'Erithacus rubecula' 'Phoenicurus ochruros'\n",
      " 'Serinus serinus' 'Sitta europaea' 'Streptopelia decaocto'\n",
      " 'Troglodytes troglodytes' 'Carduelis chloris']\n",
      "distinct species with a file : ['Anas platyrhynchos' 'Sturnus vulgaris' 'Larus argentatus'\n",
      " 'Hirundo rustica' 'Passer domesticus' 'Columba livia'\n",
      " 'Streptopelia decaocto']\n"
     ]
    }
   ],
   "source": [
    "print(common_species.head())\n",
    "print(common_species.info())\n",
    "print(' list of species : ' + str(common_species['Scientific name'].unique()))\n",
    "print('distinct species with a file : ' + str(common_species[common_species['filename'].notnull()]['Scientific name'].unique()))"
   ]
  },
  {
   "cell_type": "code",
   "execution_count": 34,
   "metadata": {},
   "outputs": [
    {
     "data": {
      "text/html": [
       "<div>\n",
       "<style>\n",
       "    .dataframe thead tr:only-child th {\n",
       "        text-align: right;\n",
       "    }\n",
       "\n",
       "    .dataframe thead th {\n",
       "        text-align: left;\n",
       "    }\n",
       "\n",
       "    .dataframe tbody tr th {\n",
       "        vertical-align: top;\n",
       "    }\n",
       "</style>\n",
       "<table border=\"1\" class=\"dataframe\">\n",
       "  <thead>\n",
       "    <tr style=\"text-align: right;\">\n",
       "      <th></th>\n",
       "      <th>rating</th>\n",
       "      <th>playback_used</th>\n",
       "      <th>ebird_code</th>\n",
       "      <th>channels</th>\n",
       "      <th>date</th>\n",
       "      <th>pitch</th>\n",
       "      <th>duration</th>\n",
       "      <th>filename</th>\n",
       "      <th>speed</th>\n",
       "      <th>species</th>\n",
       "      <th>...</th>\n",
       "      <th>primary_label</th>\n",
       "      <th>longitude</th>\n",
       "      <th>length</th>\n",
       "      <th>time</th>\n",
       "      <th>recordist</th>\n",
       "      <th>license</th>\n",
       "      <th>Scientific name</th>\n",
       "      <th>Status</th>\n",
       "      <th>No.</th>\n",
       "      <th>No. Back</th>\n",
       "    </tr>\n",
       "  </thead>\n",
       "  <tbody>\n",
       "  </tbody>\n",
       "</table>\n",
       "<p>0 rows × 39 columns</p>\n",
       "</div>"
      ],
      "text/plain": [
       "Empty DataFrame\n",
       "Columns: [rating, playback_used, ebird_code, channels, date, pitch, duration, filename, speed, species, number_of_notes, title, secondary_labels, bird_seen, sci_name, location, latitude, sampling_rate, type, elevation, description, bitrate_of_mp3, file_type, volume, background, xc_id, url, country, author, primary_label, longitude, length, time, recordist, license, Scientific name, Status, No., No. Back]\n",
       "Index: []\n",
       "\n",
       "[0 rows x 39 columns]"
      ]
     },
     "execution_count": 34,
     "metadata": {},
     "output_type": "execute_result"
    }
   ],
   "source": [
    "birds[birds['species'] == 'Anas platyrhynchos']"
   ]
  },
  {
   "cell_type": "code",
   "execution_count": 35,
   "metadata": {
    "collapsed": true
   },
   "outputs": [],
   "source": [
    "common_species.to_csv(r'./common_species.csv', index = False)"
   ]
  },
  {
   "cell_type": "code",
   "execution_count": 47,
   "metadata": {
    "collapsed": true
   },
   "outputs": [],
   "source": [
    "# Checking oiseaux and latin names ('Scientific name')\n",
    "oiseaux_name_check = pd.merge(oiseaux, latin_names, how='left', on='Scientific name')"
   ]
  },
  {
   "cell_type": "code",
   "execution_count": 51,
   "metadata": {},
   "outputs": [
    {
     "name": "stdout",
     "output_type": "stream",
     "text": [
      "<class 'pandas.core.frame.DataFrame'>\n",
      "RangeIndex: 10966 entries, 0 to 10965\n",
      "Data columns (total 5 columns):\n",
      "species            10966 non-null object\n",
      "Scientific name    10966 non-null object\n",
      "Status             158 non-null object\n",
      "No.                10966 non-null int64\n",
      "No. Back           10966 non-null int64\n",
      "dtypes: int64(2), object(3)\n",
      "memory usage: 428.4+ KB\n",
      "None\n",
      "<class 'pandas.core.frame.DataFrame'>\n",
      "Int64Index: 52 entries, 0 to 51\n",
      "Data columns (total 9 columns):\n",
      "Nom vernaculaire          52 non-null object\n",
      "Scientific name           52 non-null object\n",
      "Famille                   52 non-null object\n",
      "Statut de reproducteur    43 non-null object\n",
      "Unnamed: 4                0 non-null float64\n",
      "species                   50 non-null object\n",
      "Status                    0 non-null object\n",
      "No.                       50 non-null float64\n",
      "No. Back                  50 non-null float64\n",
      "dtypes: float64(3), object(6)\n",
      "memory usage: 6.6+ KB\n",
      "None \n",
      "\n",
      "    Nom vernaculaire    Scientific name       Famille Statut de reproducteur  \\\n",
      "34    Pic épeichette  Dendrocopos minor       Picidae        nicheur certain   \n",
      "51  Verdier d'Europe  Carduelis chloris  Fringillidae        nicheur certain   \n",
      "\n",
      "    Unnamed: 4 species Status  No.  No. Back  \n",
      "34         NaN     NaN    NaN  NaN       NaN  \n",
      "51         NaN     NaN    NaN  NaN       NaN  \n"
     ]
    }
   ],
   "source": [
    "print(latin_names.info())\n",
    "\n",
    "print(oiseaux_name_check.info(), '\\n')\n",
    "\n",
    "print(oiseaux_name_check[oiseaux_name_check['species'].isnull()])\n",
    "\n",
    "# ils ont changé de nom latin :\n",
    "#34  Pic épeichette  Dendrocopos minor       Picidae        nicheur certain => 'Dryobates minor'\n",
    "#51  Verdier d'Europe  Carduelis chloris  Fringillidae        nicheur certain => 'Chloris chloris'\n"
   ]
  },
  {
   "cell_type": "code",
   "execution_count": 55,
   "metadata": {},
   "outputs": [
    {
     "name": "stdout",
     "output_type": "stream",
     "text": [
      "                  species  Scientific name Status   No.  No. Back\n",
      "9911  European Greenfinch  Chloris chloris    NaN  1343      2846\n",
      "                        species  Scientific name Status  No.  No. Back\n",
      "3818  Lesser Spotted Woodpecker  Dryobates minor    NaN  510       340\n"
     ]
    }
   ],
   "source": [
    "print(latin_names[latin_names['Scientific name'] == 'Chloris chloris'])\n",
    "print(latin_names[latin_names['Scientific name'] == 'Dryobates minor'])\n"
   ]
  }
 ],
 "metadata": {
  "kernelspec": {
   "display_name": "Python 3",
   "language": "python",
   "name": "python3"
  },
  "language_info": {
   "codemirror_mode": {
    "name": "ipython",
    "version": 3
   },
   "file_extension": ".py",
   "mimetype": "text/x-python",
   "name": "python",
   "nbconvert_exporter": "python",
   "pygments_lexer": "ipython3",
   "version": "3.6.1"
  }
 },
 "nbformat": 4,
 "nbformat_minor": 4
}
