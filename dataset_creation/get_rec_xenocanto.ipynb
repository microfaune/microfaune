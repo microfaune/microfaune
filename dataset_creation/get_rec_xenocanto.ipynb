{
 "cells": [
  {
   "cell_type": "code",
   "execution_count": null,
   "metadata": {},
   "outputs": [
    {
     "name": "stdout",
     "output_type": "stream",
     "text": [
      "prunella_modularis\n",
      "https://www.xeno-canto.org/596068/download\n",
      "https://www.xeno-canto.org/595921/download\n",
      "https://www.xeno-canto.org/595789/download\n",
      "https://www.xeno-canto.org/595249/download\n",
      "https://www.xeno-canto.org/595247/download\n",
      "https://www.xeno-canto.org/595074/download\n",
      "https://www.xeno-canto.org/594759/download\n",
      "https://www.xeno-canto.org/594682/download\n",
      "https://www.xeno-canto.org/594681/download\n",
      "https://www.xeno-canto.org/594545/download\n"
     ]
    }
   ],
   "source": [
    "import os\n",
    "import pandas as pd\n",
    "import json\n",
    "import urllib\n",
    "\n",
    "birds_path = 'https://raw.githubusercontent.com/microfaune/microfaune/master/modeling/oiseaux.csv'\n",
    "birds = pd.read_csv(birds_path)\n",
    "\n",
    "for i in range(birds.shape[0]):\n",
    "    bird_query = birds.iloc[i][\"Nom latin\"].replace(\" \", \"+\").lower()\n",
    "    bird_name = birds.iloc[i][\"Nom latin\"].replace(\" \", \"_\").lower()\n",
    "    \n",
    "    url = f'https://www.xeno-canto.org/api/2/recordings?query={bird_query}'\n",
    "    r = urllib.request.urlopen(url)\n",
    "    \n",
    "    bird_data = json.loads(r.read().decode(r.info().get_param('charset') or 'utf-8'))\n",
    "    \n",
    "    # create folder if it doesn't exist\n",
    "    dirPath = f'data/{bird_query.replace(\"+\", \"_\")}'\n",
    "    print(bird_name)\n",
    "    \n",
    "    if not os.path.exists(dirPath):\n",
    "        os.mkdir(dirPath)\n",
    "    \n",
    "    # retrieve recordings\n",
    "    for rec in bird_data['recordings']:\n",
    "        rec_path = f\"https:{rec['file']}\"\n",
    "        print(rec_path)\n",
    "        urllib.request.urlretrieve(rec_path, f\"data/{bird_name}/{rec['file-name']}\")\n"
   ]
  },
  {
   "cell_type": "code",
   "execution_count": null,
   "metadata": {},
   "outputs": [],
   "source": []
  }
 ],
 "metadata": {
  "kernelspec": {
   "display_name": "Python 3",
   "language": "python",
   "name": "python3"
  },
  "language_info": {
   "codemirror_mode": {
    "name": "ipython",
    "version": 3
   },
   "file_extension": ".py",
   "mimetype": "text/x-python",
   "name": "python",
   "nbconvert_exporter": "python",
   "pygments_lexer": "ipython3",
   "version": "3.8.5"
  },
  "toc": {
   "base_numbering": 1,
   "nav_menu": {},
   "number_sections": false,
   "sideBar": true,
   "skip_h1_title": false,
   "title_cell": "Table of Contents",
   "title_sidebar": "Contents",
   "toc_cell": false,
   "toc_position": {},
   "toc_section_display": true,
   "toc_window_display": false
  }
 },
 "nbformat": 4,
 "nbformat_minor": 4
}
